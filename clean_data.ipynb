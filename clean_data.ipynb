{
 "cells": [
  {
   "cell_type": "code",
   "execution_count": 1,
   "metadata": {},
   "outputs": [],
   "source": [
    "import pandas as pd\n",
    "import re\n",
    "import os\n",
    "import email\n",
    "import dateutil.parser as dateparser\n",
    "import datetime"
   ]
  },
  {
   "cell_type": "code",
   "execution_count": 2,
   "metadata": {},
   "outputs": [
    {
     "data": {
      "text/plain": [
       "'\\n(Note for AY)\\nCurrent issue with zipper-a: \\n?\\n -----Original Message-----\\nFrom: =09Mack, Iris =20\\nSent:=09Wednesday, September 26, 2001 12:37 PM\\n\\nshows -9114 days reply time. \\n'"
      ]
     },
     "execution_count": 2,
     "metadata": {},
     "output_type": "execute_result"
    }
   ],
   "source": [
    "'''\n",
    "(Note for AY)\n",
    "Current issue with zipper-a: \n",
    "?\n",
    " -----Original Message-----\n",
    "From: =09Mack, Iris =20\n",
    "Sent:=09Wednesday, September 26, 2001 12:37 PM\n",
    "\n",
    "shows -9114 days reply time. \n",
    "'''"
   ]
  },
  {
   "cell_type": "code",
   "execution_count": 3,
   "metadata": {},
   "outputs": [],
   "source": [
    "# Constants\n",
    "# Tested and verified OK- small: lokey-t, south-s\n",
    "user = \"zipper-a\" # NOTE: SOME PEOPLE DO NOT HAVE THE SAME REPLY FORMAT. \n",
    "send_folders = [\"_sent_mail\", \"sent\", \"sent_items\"] # do not edit this!"
   ]
  },
  {
   "cell_type": "code",
   "execution_count": 4,
   "metadata": {},
   "outputs": [],
   "source": [
    "# Get the number of emails in user's folder. \n",
    "def get_num_sent_emails(user, foldername):\n",
    "    n = (len(os.listdir(\"data/maildir/\"+user+\"/\"+foldername)))\n",
    "    return n"
   ]
  },
  {
   "cell_type": "code",
   "execution_count": 5,
   "metadata": {},
   "outputs": [],
   "source": [
    "def get_user_email_id(user):\n",
    "    send_folder = send_folders[0] # doesn't actually matter which folder we use.\n",
    "    # get the \"from\" field of one of the sent emails\n",
    "    sentfilename = os.listdir(\"data/maildir/\" + user + \"/\" + send_folder)[0]\n",
    "    fullfilename = \"data/maildir/\" + user + \"/\" + send_folder + \"/\" + sentfilename\n",
    "    with open(fullfilename, \"r\") as f:\n",
    "        for line in f:\n",
    "            if line.startswith(\"From:\"):\n",
    "                return line.split(\": \")[1].strip()\n",
    "            \n",
    "\n",
    "# print(\"Email ID for user {}: \".format(user), get_user_email_id(user))"
   ]
  },
  {
   "cell_type": "code",
   "execution_count": 6,
   "metadata": {},
   "outputs": [],
   "source": [
    "## Make the dataframe, to be filled with data. \n",
    "df = pd.DataFrame(columns=[\"uid\", \"sender\", \"recipient\", \"sendtime\", \"replytime\", \\\n",
    "                           \"replyspeed\", \"messagecontent\", \"foldername\"])\n",
    "df.set_index(\"uid\", inplace=True)\n",
    "# Indices of the dataframe are messageIDs. (because properness.)"
   ]
  },
  {
   "cell_type": "code",
   "execution_count": 7,
   "metadata": {},
   "outputs": [
    {
     "name": "stdout",
     "output_type": "stream",
     "text": [
      "Using folder:  sent_items\n"
     ]
    }
   ],
   "source": [
    "# Choose which sent folder to use.\n",
    "sent_folder_name = \"\"\n",
    "for folder in send_folders:\n",
    "    if os.path.isdir(\"data/maildir/\"+user+\"/\"+folder):\n",
    "        if sent_folder_name == \"\":\n",
    "            sent_folder_name = folder\n",
    "        if get_num_sent_emails(user, folder) > get_num_sent_emails(user, sent_folder_name):\n",
    "            sent_folder_name = folder\n",
    "\n",
    "\n",
    "print(\"Using folder: \", sent_folder_name)\n"
   ]
  },
  {
   "cell_type": "code",
   "execution_count": 8,
   "metadata": {},
   "outputs": [],
   "source": [
    "def isReply(content):    \n",
    "    # REGARDLESS of whether we have a fwd or a reply, we are looking for a block \n",
    "    # that looks like this:\n",
    "    \n",
    "    # SENDER on DATE 05/16/2001 05:30:21 PM\n",
    "    # To: SOMEONE\n",
    "    # cc: ??\n",
    "    # Subject: xxx\n",
    "    time_regex = \"\\d+:\\d\\d(|:\\d\\d)( |)(AM|PM)\"\n",
    "    date_slash_regex = \"\\d\\d/\\d\\d/20\\d\\d \" + time_regex\n",
    "    whitespace_regex = r\"[\\s(=20)(=09)]+\"\n",
    "    a = re.search(date_slash_regex + whitespace_regex + r\"To:\", content)\n",
    "    if a is not None:\n",
    "        just_date = re.search(date_slash_regex, a.group()).group()\n",
    "        return just_date\n",
    "    \n",
    "    # Format:\n",
    "    # -----Original Message-----\n",
    "    # From: whatever\n",
    "    # Sent: Friday, October 05, 2001 3:07 PM\n",
    "    day_regex = r\"(\\w+)day, \\w+ \\d\\d, 20\\d\\d \" + time_regex\n",
    "    a = re.search(day_regex, content)\n",
    "    if a is not None:\n",
    "        return a.group()\n",
    "        \n",
    "\n",
    "\n",
    "    else:\n",
    "        return -1\n",
    "\n"
   ]
  },
  {
   "cell_type": "code",
   "execution_count": 9,
   "metadata": {},
   "outputs": [
    {
     "ename": "NameError",
     "evalue": "name 'sent_folder_name' is not defined",
     "output_type": "error",
     "traceback": [
      "\u001b[0;31m---------------------------------------------------------------------------\u001b[0m",
      "\u001b[0;31mNameError\u001b[0m                                 Traceback (most recent call last)",
      "Input \u001b[0;32mIn [9]\u001b[0m, in \u001b[0;36m<cell line: 2>\u001b[0;34m()\u001b[0m\n\u001b[1;32m      1\u001b[0m \u001b[38;5;66;03m# Iterate through the sent emails and add to dataframe. \u001b[39;00m\n\u001b[0;32m----> 2\u001b[0m filenames \u001b[38;5;241m=\u001b[39m os\u001b[38;5;241m.\u001b[39mlistdir(\u001b[38;5;124m\"\u001b[39m\u001b[38;5;124mdata/maildir/\u001b[39m\u001b[38;5;124m\"\u001b[39m\u001b[38;5;241m+\u001b[39muser\u001b[38;5;241m+\u001b[39m\u001b[38;5;124m\"\u001b[39m\u001b[38;5;124m/\u001b[39m\u001b[38;5;124m\"\u001b[39m\u001b[38;5;241m+\u001b[39m\u001b[43msent_folder_name\u001b[49m)\n\u001b[1;32m      3\u001b[0m \u001b[38;5;28;01mfor\u001b[39;00m file \u001b[38;5;129;01min\u001b[39;00m filenames:\n\u001b[1;32m      4\u001b[0m     full_filename \u001b[38;5;241m=\u001b[39m \u001b[38;5;124m\"\u001b[39m\u001b[38;5;124mdata/maildir/\u001b[39m\u001b[38;5;124m\"\u001b[39m\u001b[38;5;241m+\u001b[39muser\u001b[38;5;241m+\u001b[39m\u001b[38;5;124m\"\u001b[39m\u001b[38;5;124m/\u001b[39m\u001b[38;5;124m\"\u001b[39m\u001b[38;5;241m+\u001b[39msent_folder_name\u001b[38;5;241m+\u001b[39m\u001b[38;5;124m\"\u001b[39m\u001b[38;5;124m/\u001b[39m\u001b[38;5;124m\"\u001b[39m\u001b[38;5;241m+\u001b[39mfile\n",
      "\u001b[0;31mNameError\u001b[0m: name 'sent_folder_name' is not defined"
     ]
    }
   ],
   "source": [
    "# Iterate through the sent emails and add to dataframe. \n",
    "filenames = os.listdir(\"data/maildir/\"+user+\"/\"+sent_folder_name)\n",
    "for file in filenames:\n",
    "    full_filename = \"data/maildir/\"+user+\"/\"+sent_folder_name+\"/\"+file\n",
    "    f = open(full_filename, \"r\")\n",
    "\n",
    "    # Process the message\n",
    "    message = email.message_from_file(f)\n",
    "    f.close()\n",
    "\n",
    "    # Get the list of recipients.\n",
    "    # print(message.items())\n",
    "    if message[\"To\"]:\n",
    "        recipient_list = message[\"To\"].split(\", \")\n",
    "    if message[\"Cc\"]:\n",
    "        recipient_list += message[\"Cc\"].split(\", \")\n",
    "    if message[\"Bcc\"]:\n",
    "        recipient_list += message[\"Bcc\"].split(\", \")\n",
    "    # if message[\"X-To\"]:\n",
    "    #     recipient_list += message[\"X-To\"].split(\", \")\n",
    "    # if message[\"X-cc\"]:\n",
    "    #     recipient_list += message[\"X-cc\"].split(\", \")\n",
    "    # if message[\"X-bcc\"]:\n",
    "        recipient_list += message[\"X-bcc\"].split(\", \")\n",
    "    recipient_list = list(set([r.strip() for r in recipient_list])) # remove duplicates\n",
    "    if len(recipient_list) == 0:\n",
    "        continue # Email not sent to anyone?\n",
    "\n",
    "    # Get the time the email was sent.\n",
    "    sendtime = dateparser.parse(message[\"Date\"])\n",
    "    # print(\"send time\", sendtime.astimezone(datetime.timezone.utc))\n",
    "\n",
    "    # Calculate the reply speed:\n",
    "    prev_email_time = isReply(content=message.get_payload())\n",
    "    if prev_email_time != -1:\n",
    "        # print(\"reply time\", prev_email_time)\n",
    "        prev_email_time = dateparser.parse(prev_email_time + \"+0000\")\n",
    "        # print(\"prev_email_time\", prev_email_time.astimezone(datetime.timezone.utc))\n",
    "        replyspeed = sendtime - prev_email_time\n",
    "        # print(\"replyspeed\", replyspeed)\n",
    "    else:\n",
    "        replyspeed = -1\n",
    "\n",
    "    # print(message.get_payload()[:300])\n",
    "    # print(\"---\")\n",
    "\n",
    "    # Make dataframe row(s):\n",
    "    for recipient in recipient_list:\n",
    "        row = {\n",
    "            \"uid\": message[\"Message-ID\"]+recipient,\n",
    "            \"sender\": message[\"From\"],\n",
    "            \"recipient\": recipient,\n",
    "            \"sendtime\": sendtime,\n",
    "            \"replytime\": prev_email_time, \n",
    "            \"replyspeed\": replyspeed,\n",
    "            \"messagecontent\": message.get_payload(),\n",
    "            \"foldername\": \"\"\n",
    "        }\n",
    "        id = message[\"Message-ID\"]+recipient,\n",
    "        entry = pd.DataFrame([row])\n",
    "        df = pd.concat([df, entry], ignore_index=True)\n",
    "\n",
    "df\n",
    "\n",
    "    \n"
   ]
  },
  {
   "cell_type": "code",
   "execution_count": null,
   "metadata": {},
   "outputs": [],
   "source": [
    "# SAVE AS CSV\n",
    "!mkdir -p processed_data\n",
    "df.to_csv(\"processed_data/\"+user+\"_sent.csv\")"
   ]
  },
  {
   "cell_type": "code",
   "execution_count": null,
   "metadata": {},
   "outputs": [],
   "source": []
  }
 ],
 "metadata": {
  "kernelspec": {
   "display_name": "Python 3",
   "language": "python",
   "name": "python3"
  },
  "language_info": {
   "codemirror_mode": {
    "name": "ipython",
    "version": 3
   },
   "file_extension": ".py",
   "mimetype": "text/x-python",
   "name": "python",
   "nbconvert_exporter": "python",
   "pygments_lexer": "ipython3",
   "version": "3.10.5"
  }
 },
 "nbformat": 4,
 "nbformat_minor": 2
}
